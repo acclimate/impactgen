{
 "cells": [
  {
   "cell_type": "code",
   "execution_count": null,
   "metadata": {},
   "outputs": [],
   "source": [
    "import glob\n",
    "import pandas as pd\n",
    "te_dir = \"/home/jiacheng/Desktop/tradingeconomics_data/\"\n",
    "pd.options.display.float_format = '{:,.3f}'.format\n"
   ]
  },
  {
   "cell_type": "code",
   "execution_count": null,
   "metadata": {},
   "outputs": [],
   "source": [
    "for file in glob.glob(te_dir+\"*.csv\"):\n",
    "    df_te = pd.read_csv(file, delimiter=\"\\t\")\n",
    "    \n",
    "    if df_te['Frequency'][0] != 'Monthly':\n",
    "        pass\n",
    "    elif 'NLD_Industrial Production' in file:\n",
    "        df_te = pd.read_csv(file, delimiter=\"\\t\")\n",
    "        df_te['Value_percent'] = df_te['Value']\n",
    "        df_te.to_csv(file, index = False, sep=\"\\t\")\n",
    "    else:\n",
    "        if 'Manufacturing Production' in file or 'Industrial Production' in file:\n",
    "            df_te['Value_percent'] = df_te['Value']\n",
    "        else:\n",
    "            df_te['Value_percent'] = 100 * df_te['Value'].pct_change(periods=12)\n",
    "        df_te.iloc[12:].to_csv(file, index = False, sep=\"\\t\")"
   ]
  },
  {
   "cell_type": "code",
   "execution_count": null,
   "metadata": {},
   "outputs": [],
   "source": []
  }
 ],
 "metadata": {
  "kernelspec": {
   "display_name": "Python 3",
   "language": "python",
   "name": "python3"
  },
  "language_info": {
   "codemirror_mode": {
    "name": "ipython",
    "version": 3
   },
   "file_extension": ".py",
   "mimetype": "text/x-python",
   "name": "python",
   "nbconvert_exporter": "python",
   "pygments_lexer": "ipython3",
   "version": "3.7.3"
  }
 },
 "nbformat": 4,
 "nbformat_minor": 2
}
